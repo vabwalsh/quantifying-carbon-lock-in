version https://git-lfs.github.com/spec/v1
oid sha256:8cfa96d848db6b6d90a349daf71e2acac3501610bfe3a5dce46de9752c0bf53e
size 23708

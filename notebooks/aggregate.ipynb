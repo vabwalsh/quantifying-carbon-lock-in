version https://git-lfs.github.com/spec/v1
oid sha256:190d7c8003b84d063cd93c3486328d95bb01f370512f4fd1b40c67c4114ea235
size 14861

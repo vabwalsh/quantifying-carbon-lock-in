version https://git-lfs.github.com/spec/v1
oid sha256:8dd5d926074fa1cc3f9b6ebdd9202943d423d2f9e581bc070a1b49c1fca1f9a3
size 2312

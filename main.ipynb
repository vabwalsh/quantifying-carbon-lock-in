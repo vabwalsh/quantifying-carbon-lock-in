version https://git-lfs.github.com/spec/v1
oid sha256:4701e063b83974a84e4e70e090b6d2ba417bd177e90aab75731e2910889fdf5f
size 46323

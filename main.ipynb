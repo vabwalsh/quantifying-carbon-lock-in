version https://git-lfs.github.com/spec/v1
oid sha256:adebefd023e991d783bf574631862430e808370df9ed05c59280c6c7d05172a8
size 61050

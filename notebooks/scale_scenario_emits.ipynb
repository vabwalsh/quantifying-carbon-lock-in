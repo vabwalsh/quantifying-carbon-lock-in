version https://git-lfs.github.com/spec/v1
oid sha256:a5c5f814f65bd03c0ce108f336c4feb694885c1f7b96ef944e9b35a8665ec703
size 10477

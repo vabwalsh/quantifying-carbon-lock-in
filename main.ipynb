version https://git-lfs.github.com/spec/v1
oid sha256:a361ec12443b1d1de8ed3380c83e5ef5f2655da39556fe2b2d715b127e09e392
size 50948

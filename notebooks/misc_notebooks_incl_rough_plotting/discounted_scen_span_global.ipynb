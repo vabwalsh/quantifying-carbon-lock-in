version https://git-lfs.github.com/spec/v1
oid sha256:e2f79b0b2e216e1e342105a4f58feb82efc0083b177d8b00f258cbc911f7210b
size 383716

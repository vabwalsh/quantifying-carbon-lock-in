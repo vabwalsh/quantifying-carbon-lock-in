version https://git-lfs.github.com/spec/v1
oid sha256:be1a7ccea78672ae88bf46c080a7edfe9f19b889c9bfa4f6cf323d189fe9a1bb
size 44048

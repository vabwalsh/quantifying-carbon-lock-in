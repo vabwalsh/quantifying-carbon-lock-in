version https://git-lfs.github.com/spec/v1
oid sha256:09c1a1c6112b59ba84524dab9599f6ffc7e586bd50eb317808751a517adc4bf6
size 56205

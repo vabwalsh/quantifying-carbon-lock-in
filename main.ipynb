version https://git-lfs.github.com/spec/v1
oid sha256:89fbc2c8d95e283f99c3eb437aa051873f23b1610e0ddcda0c1bdb606f22b3b3
size 53836

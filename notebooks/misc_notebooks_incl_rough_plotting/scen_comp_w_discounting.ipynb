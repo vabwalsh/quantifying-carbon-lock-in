version https://git-lfs.github.com/spec/v1
oid sha256:b3a6ca1343ce173c38c7328eedf1a4f22092ef7c7644f310ff1852f1303d5b4b
size 189109

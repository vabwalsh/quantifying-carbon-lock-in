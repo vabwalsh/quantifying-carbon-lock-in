version https://git-lfs.github.com/spec/v1
oid sha256:0b392087ae533c371eb8390a339ded18bef4bbacc80d6dd219cbf65eb062a13c
size 53666

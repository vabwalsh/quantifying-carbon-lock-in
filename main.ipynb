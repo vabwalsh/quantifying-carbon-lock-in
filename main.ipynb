version https://git-lfs.github.com/spec/v1
oid sha256:c34843203a0b80090bd74f5310350c0de68864a8139af2bf6652e443dc157cbf
size 54460

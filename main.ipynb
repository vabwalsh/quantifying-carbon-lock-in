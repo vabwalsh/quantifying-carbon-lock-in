version https://git-lfs.github.com/spec/v1
oid sha256:b430cb3ae7fedb76830f6c734b6a2b3a734d98f89cf7363754595107829d9616
size 62514

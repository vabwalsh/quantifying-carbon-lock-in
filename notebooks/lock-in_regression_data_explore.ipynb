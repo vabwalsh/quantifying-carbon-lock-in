version https://git-lfs.github.com/spec/v1
oid sha256:e1f22af384b03376e4a4646601ba4150c964ae5e024ba03b48681a320abde5f9
size 32077

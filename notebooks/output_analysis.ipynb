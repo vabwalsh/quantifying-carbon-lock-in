version https://git-lfs.github.com/spec/v1
oid sha256:20ca1c1e899d89a6399b1da1a0d8c721698a84f0c258adfdc1745983f19b6104
size 34658

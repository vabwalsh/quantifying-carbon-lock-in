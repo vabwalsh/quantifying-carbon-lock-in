version https://git-lfs.github.com/spec/v1
oid sha256:68a512da25e21d2bbd0bdf77739ce909a8bd1278e226cdf19684b532076c7a2f
size 3506

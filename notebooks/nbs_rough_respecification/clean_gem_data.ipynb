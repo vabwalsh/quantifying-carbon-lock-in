version https://git-lfs.github.com/spec/v1
oid sha256:cb477681fb910ebed29ce4ab366b136913744c6eeff388d462548c24e9105a14
size 10070

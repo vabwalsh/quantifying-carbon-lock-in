version https://git-lfs.github.com/spec/v1
oid sha256:ce8973e95b8604df14b224c0a181bd543840c0f77d602a5de25132c6025ea56e
size 12775

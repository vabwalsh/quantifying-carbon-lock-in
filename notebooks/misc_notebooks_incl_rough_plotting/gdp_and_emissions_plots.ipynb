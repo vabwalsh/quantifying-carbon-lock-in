version https://git-lfs.github.com/spec/v1
oid sha256:a2f4a065f547bc53d6be781543f1cf71dde33cdedf178ee73dbbc8a1ff3b0163
size 53435079

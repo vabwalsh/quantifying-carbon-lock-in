version https://git-lfs.github.com/spec/v1
oid sha256:618493e146188b396fde60258e3e4e1ea3b1c54d41c5b358102ed1b7bd7816e9
size 54862
